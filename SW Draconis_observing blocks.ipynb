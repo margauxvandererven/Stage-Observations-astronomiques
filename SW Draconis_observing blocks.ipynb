{
 "cells": [
  {
   "cell_type": "markdown",
   "id": "e021820d",
   "metadata": {},
   "source": [
    "# SW Draconis : observing blocks\n",
    "\n",
    "\n",
    "Philippe Hekkers, Siméon Deschaux-Beaume, Margaux Vandererven"
   ]
  },
  {
   "cell_type": "code",
   "execution_count": 1,
   "id": "d81ea84a",
   "metadata": {},
   "outputs": [],
   "source": [
    "import numpy as np\n",
    "from astropy.time import Time\n",
    "from astropy.coordinates import EarthLocation, get_sun, get_moon, AltAz\n",
    "from pandas import DataFrame\n",
    "import matplotlib.pyplot as plt\n",
    "import astropy.units as u\n",
    "from astropy.coordinates import SkyCoord\n",
    "from astroplan import Observer"
   ]
  },
  {
   "cell_type": "markdown",
   "id": "231c2a83",
   "metadata": {},
   "source": [
    "#### Informations du T5 :"
   ]
  },
  {
   "cell_type": "code",
   "execution_count": 2,
   "id": "b7dce53f",
   "metadata": {},
   "outputs": [],
   "source": [
    "longitude = -113.496040 *u.deg\n",
    "latitude = 37.103080*u.deg\n",
    "elevation = 1570 * u.m\n",
    "location = EarthLocation(lat = latitude, lon = longitude, height = elevation)\n",
    "\n",
    "T5 = Observer(name='T5', \n",
    "             location=location)"
   ]
  },
  {
   "cell_type": "markdown",
   "id": "e8e535cc",
   "metadata": {},
   "source": [
    "#### Informations sur SW Dra :"
   ]
  },
  {
   "cell_type": "code",
   "execution_count": 3,
   "id": "de579549",
   "metadata": {},
   "outputs": [],
   "source": [
    "sw_dra = SkyCoord.from_name('SW Dra') #coordonnées de SW Dra dans Simbad\n",
    "# print(sw_dra)\n",
    "\n",
    "p = 0.56966993 #période en jours\n",
    "\n",
    "periode = p*24*60 #période en minutes"
   ]
  },
  {
   "cell_type": "markdown",
   "id": "dba85d1c",
   "metadata": {},
   "source": [
    "#### Phases souhaitées : "
   ]
  },
  {
   "cell_type": "code",
   "execution_count": 4,
   "id": "54c71578",
   "metadata": {},
   "outputs": [
    {
     "name": "stdout",
     "output_type": "stream",
     "text": [
      "période en minute :  820.3246992 min \n",
      "\n",
      "phases souhaitées de l'étoile :  [0.    0.2   0.41  0.6   0.7   0.785 0.84  0.885 0.91  0.93 ] \n",
      "\n",
      "minutes de prise :  [  0.         164.06493984 336.33312667 492.19481952 574.22728944\n",
      " 643.95488887 689.07274733 725.98735879 746.49547627 762.90197026] \n",
      "\n"
     ]
    }
   ],
   "source": [
    "PHASE = np.array([0.000, 0.200, 0.410, 0.600, 0.700, 0.785, 0.840, 0.885, 0.910, 0.930]) #phase à laquelle on souhaite prendre une image\n",
    "phase = PHASE * periode\n",
    "\n",
    "print('période en minute : ', periode, 'min \\n')\n",
    "print(\"phases souhaitées de l'étoile : \" , PHASE, '\\n')\n",
    "print('minutes de prise : ', phase, '\\n')"
   ]
  },
  {
   "cell_type": "markdown",
   "id": "573fc867",
   "metadata": {},
   "source": [
    "#### Détermination des époques : \n",
    "\n",
    "Le début est déterminé par AAVSO pour le maximum de luminosité de SW Dra."
   ]
  },
  {
   "cell_type": "code",
   "execution_count": 5,
   "id": "6ffc4bdb",
   "metadata": {},
   "outputs": [
    {
     "name": "stderr",
     "output_type": "stream",
     "text": [
      "C:\\Users\\marga\\AppData\\Local\\Temp/ipykernel_9396/1610955171.py:2: DeprecationWarning: `np.float` is a deprecated alias for the builtin `float`. To silence this warning, use `float` by itself. Doing this will not modify any behavior and is safe. If you specifically wanted the numpy scalar type, use `np.float64` here.\n",
      "Deprecated in NumPy 1.20; for more details and guidance: https://numpy.org/devdocs/release/1.20.0-notes.html#deprecations\n",
      "  begin = np.float(beginn.jd)\n",
      "C:\\Users\\marga\\AppData\\Local\\Temp/ipykernel_9396/1610955171.py:4: DeprecationWarning: `np.float` is a deprecated alias for the builtin `float`. To silence this warning, use `float` by itself. Doing this will not modify any behavior and is safe. If you specifically wanted the numpy scalar type, use `np.float64` here.\n",
      "Deprecated in NumPy 1.20; for more details and guidance: https://numpy.org/devdocs/release/1.20.0-notes.html#deprecations\n",
      "  end = np.float(endd.jd)\n"
     ]
    }
   ],
   "source": [
    "beginn = Time('2023-03-27T00:14:00', format='isot', scale='utc')\n",
    "begin = np.float(beginn.jd)\n",
    "endd = Time('2023-5-30T00:00:00', format='isot', scale='utc')\n",
    "end = np.float(endd.jd)"
   ]
  },
  {
   "cell_type": "code",
   "execution_count": 6,
   "id": "8c0b51e4",
   "metadata": {},
   "outputs": [],
   "source": [
    "# on découpe le temps pour chacune des phases. \n",
    "\n",
    "T_t = []\n",
    "PHASE_tout = []\n",
    "for i in range(10):\n",
    "    phase_i = phase[i]/(60*24)\n",
    "    t_i = np.arange(begin+phase_i, end, p).tolist()\n",
    "    T_t.append(t_i)\n",
    "    for j in range(len(t_i)):\n",
    "        PHASE_tout.append(PHASE[i])\n",
    "    \n",
    "T = sum(T_t,[])"
   ]
  },
  {
   "cell_type": "code",
   "execution_count": 7,
   "id": "a33c9e58",
   "metadata": {},
   "outputs": [
    {
     "name": "stdout",
     "output_type": "stream",
     "text": [
      "[2460030.25972222 2460030.82939215 2460031.39906208 ... 2460092.8835376\n",
      " 2460093.45320753 2460094.02287747]\n"
     ]
    }
   ],
   "source": [
    "t = Time(np.array(T), format='jd')\n",
    "timee = t.isot\n",
    "time = Time(timee, format='isot', scale='utc')\n",
    "\n",
    "UTC_offset = 6*u.hour\n",
    "time_Utah = time - UTC_offset\n",
    "time_Utah_jd = time_Utah.jd\n",
    "print(time_Utah_jd)"
   ]
  },
  {
   "cell_type": "markdown",
   "id": "55c48932",
   "metadata": {},
   "source": [
    "#### Distance à la Lune de SW Dra : "
   ]
  },
  {
   "cell_type": "code",
   "execution_count": 8,
   "id": "22c283c4",
   "metadata": {},
   "outputs": [
    {
     "name": "stdout",
     "output_type": "stream",
     "text": [
      "      Right ascension  Declinaison\n",
      "0           70.122828    25.261492\n",
      "1           78.252994    25.904971\n",
      "2           85.231780    27.286151\n",
      "3           94.250493    27.221132\n",
      "4          100.509335    27.421138\n",
      "...               ...          ...\n",
      "1117       157.239373    13.518725\n",
      "1118       164.030827    10.918057\n",
      "1119       170.266999     7.653223\n",
      "1120       175.966898     4.636910\n",
      "1121       183.086476     1.321287\n",
      "\n",
      "[1122 rows x 2 columns]\n"
     ]
    }
   ],
   "source": [
    "# position de la lune pour chaque époque\n",
    "\n",
    "moon = get_moon(t, location = location)\n",
    "\n",
    "data_dict = { 'Right ascension':moon.ra.T,\n",
    "              'Declinaison': moon.dec.T,\n",
    "          }\n",
    "df = DataFrame(data_dict)\n",
    "df.head()\n",
    "print(df)"
   ]
  },
  {
   "cell_type": "code",
   "execution_count": 9,
   "id": "13688651",
   "metadata": {},
   "outputs": [],
   "source": [
    "# on calcule la distance à la lune de SW Dra\n",
    "\n",
    "ra = df['Right ascension']\n",
    "dec = df['Declinaison']\n",
    "\n",
    "angle_separation = np.zeros(len(t.isot))\n",
    "\n",
    "for i in range(len(t.isot)):\n",
    "    c2 = SkyCoord(ra[i]*u.deg, dec[i]*u.deg, frame='icrs')\n",
    "    sep = sw_dra.separation(c2)\n",
    "    angle_separation[i] = sep.radian\n",
    "    \n",
    "\n",
    "angle_separation2 = angle_separation * 180 / np.pi # On convertit en degrés"
   ]
  },
  {
   "cell_type": "markdown",
   "id": "f968d67a",
   "metadata": {},
   "source": [
    "#### Détermination des phases de la Lune : "
   ]
  },
  {
   "cell_type": "code",
   "execution_count": 10,
   "id": "257044b4",
   "metadata": {},
   "outputs": [],
   "source": [
    "def moon_phase_angle(time, ephemeris=None):\n",
    "    \"\"\"\n",
    "    Calculate lunar orbital phase in radians.\n",
    "\n",
    "    Parameters\n",
    "    ----------\n",
    "    time : `~astropy.time.Time`\n",
    "        Time of observation\n",
    "\n",
    "    ephemeris : str, optional\n",
    "        Ephemeris to use.  If not given, use the one set with\n",
    "        `~astropy.coordinates.solar_system_ephemeris` (which is\n",
    "        set to 'builtin' by default).\n",
    "\n",
    "    Returns\n",
    "    -------\n",
    "    i : `~astropy.units.Quantity`\n",
    "        Phase angle of the moon [radians]\n",
    "    \"\"\"\n",
    "    sun = get_sun(time)\n",
    "    moon = get_moon(time, ephemeris=ephemeris)\n",
    "    elongation = sun.separation(moon)\n",
    "    return np.arctan2(sun.distance*np.sin(elongation),\n",
    "                      moon.distance - sun.distance*np.cos(elongation))\n",
    "\n",
    "\n",
    "\n",
    "def moon_illumination(time, ephemeris=None):\n",
    "    \"\"\"\n",
    "    Calculate fraction of the moon illuminated.\n",
    "\n",
    "    Parameters\n",
    "    ----------\n",
    "    time : `~astropy.time.Time`\n",
    "        Time of observation\n",
    "\n",
    "    ephemeris : str, optional\n",
    "        Ephemeris to use.  If not given, use the one set with\n",
    "        `~astropy.coordinates.solar_system_ephemeris` (which is\n",
    "        set to 'builtin' by default).\n",
    "\n",
    "    Returns\n",
    "    -------\n",
    "    k : float\n",
    "        Fraction of moon illuminated\n",
    "    \"\"\"\n",
    "    i = moon_phase_angle(time, ephemeris=ephemeris)\n",
    "    k = (1 + np.cos(i))/2.0\n",
    "    return k.value"
   ]
  },
  {
   "cell_type": "code",
   "execution_count": 11,
   "id": "06e4a9b1",
   "metadata": {},
   "outputs": [],
   "source": [
    "moon_illumination1 = moon_illumination(t, ephemeris=None)"
   ]
  },
  {
   "cell_type": "markdown",
   "id": "644f88f0",
   "metadata": {},
   "source": [
    "#### Détermination de la position du Soleil et de SW Dra :"
   ]
  },
  {
   "cell_type": "code",
   "execution_count": 12,
   "id": "9f9d39c2",
   "metadata": {},
   "outputs": [],
   "source": [
    "altaz2 = AltAz(obstime=t,\n",
    "                location=location) #depuis le T5\n",
    "\n",
    "sun2 = get_sun(t) #position du Soleil\n",
    "sun2_altaz = sun2.transform_to(altaz2) #position du Soleil depuis le T5\n",
    "sw_dra2_altaz = sw_dra.transform_to(altaz2) #position de SW Dra depuis le T5"
   ]
  },
  {
   "cell_type": "markdown",
   "id": "2e29bf31",
   "metadata": {},
   "source": [
    "#### Résumé des données :  "
   ]
  },
  {
   "cell_type": "code",
   "execution_count": 13,
   "id": "78708271",
   "metadata": {},
   "outputs": [],
   "source": [
    "data = np.array([T, time_Utah_jd, angle_separation2, moon_illumination1, sun2_altaz.alt, sw_dra2_altaz.alt, PHASE_tout])\n",
    "date = data.T"
   ]
  },
  {
   "cell_type": "code",
   "execution_count": 14,
   "id": "e55ae5d3",
   "metadata": {},
   "outputs": [],
   "source": [
    "TMM = Time(date[:,0], format = 'jd')"
   ]
  },
  {
   "cell_type": "code",
   "execution_count": 15,
   "id": "61241fc7",
   "metadata": {},
   "outputs": [
    {
     "name": "stdout",
     "output_type": "stream",
     "text": [
      "          Date et heure (UTC) Date et heure local en Utah (UTC-6)  \\\n",
      "0     2023-03-27T00:14:00.000             2023-03-26T18:14:00.000   \n",
      "1     2023-03-27T13:54:19.482             2023-03-27T07:54:19.482   \n",
      "2     2023-03-28T03:34:38.964             2023-03-27T21:34:38.964   \n",
      "3     2023-03-28T17:14:58.446             2023-03-28T11:14:58.446   \n",
      "4     2023-03-29T06:55:17.928             2023-03-29T00:55:17.928   \n",
      "...                       ...                                 ...   \n",
      "1117  2023-05-27T11:51:38.685             2023-05-27T05:51:38.685   \n",
      "1118  2023-05-28T01:31:58.167             2023-05-27T19:31:58.167   \n",
      "1119  2023-05-28T15:12:17.649             2023-05-28T09:12:17.649   \n",
      "1120  2023-05-29T04:52:37.131             2023-05-28T22:52:37.131   \n",
      "1121  2023-05-29T18:32:56.613             2023-05-29T12:32:56.613   \n",
      "\n",
      "      Distance à la Lune  Phase de la Lune  Hauteur du Soleil  \\\n",
      "0              74.372878          0.301164          18.419652   \n",
      "1              71.249743          0.354643           4.562966   \n",
      "2              67.689283          0.409163         -20.757096   \n",
      "3              64.695109          0.464091          42.573371   \n",
      "4              62.340156          0.518856         -48.343666   \n",
      "...                  ...               ...                ...   \n",
      "1117           58.556247          0.487373          -5.362303   \n",
      "1118           60.030679          0.541795          12.564812   \n",
      "1119           62.541793          0.596128          32.516963   \n",
      "1120           65.114707          0.649823         -20.424675   \n",
      "1121           68.195397          0.702290          70.036752   \n",
      "\n",
      "      Hauteur de SW Dra  \n",
      "0             27.776630  \n",
      "1             32.662302  \n",
      "2             45.084054  \n",
      "3             19.314471  \n",
      "4             57.430498  \n",
      "...                 ...  \n",
      "1117          23.935718  \n",
      "1118          53.908310  \n",
      "1119          16.535247  \n",
      "1120          55.696976  \n",
      "1121          21.917435  \n",
      "\n",
      "[1122 rows x 6 columns]\n"
     ]
    }
   ],
   "source": [
    "data_dict3 = { 'Date et heure (UTC)':TMM.isot,\n",
    "               'Date et heure local en Utah (UTC-6)' : time_Utah.isot,\n",
    "               'Distance à la Lune' : angle_separation2,\n",
    "               'Phase de la Lune' : moon_illumination1,\n",
    "               'Hauteur du Soleil' : sun2_altaz.alt,\n",
    "               'Hauteur de SW Dra' : sw_dra2_altaz.alt\n",
    "              }\n",
    "df3 = DataFrame(data_dict3)\n",
    "df3.head()\n",
    "print(df3)"
   ]
  },
  {
   "cell_type": "markdown",
   "id": "4b6870a4",
   "metadata": {},
   "source": [
    "#### Application des contraintes de visibilité : "
   ]
  },
  {
   "cell_type": "code",
   "execution_count": 22,
   "id": "6d744375",
   "metadata": {},
   "outputs": [],
   "source": [
    "date1 = date[~(date[:,2] <= 30)] #distance à la lune supérieure à 30°\n",
    "date2 = date1[~(date1[:,3] > 0.9)] #une lune éclairée à 80% ou moins\n",
    "\n",
    "date3 = date2[~(date2[:,4] >= -18)] #hauteur du soleil <-18° pour se situer dans le crépuscule astronomique\n",
    "\n",
    "\n",
    "DATE = date3[~(date3[:,5] <= 30)] #hauteur dans le ciel de sw dra"
   ]
  },
  {
   "cell_type": "code",
   "execution_count": 23,
   "id": "775d58e8",
   "metadata": {},
   "outputs": [],
   "source": [
    "TM = Time(DATE[:,0], format = 'jd')\n",
    "TU = Time(DATE[:,1], format = 'jd')"
   ]
  },
  {
   "cell_type": "code",
   "execution_count": 24,
   "id": "8319fdac",
   "metadata": {},
   "outputs": [
    {
     "name": "stdout",
     "output_type": "stream",
     "text": [
      "         Date et heure (UTC) Date et heure local en Utah (UTC-6)  \\\n",
      "55   2023-03-27T05:50:19.988             2023-03-26 23:50:19.988   \n",
      "83   2023-03-27T08:26:11.689             2023-03-27 02:26:11.689   \n",
      "109  2023-03-27T09:48:13.637             2023-03-27 03:48:13.637   \n",
      "135  2023-03-27T10:57:57.293             2023-03-27 04:57:57.293   \n",
      "161  2023-03-27T11:43:04.365             2023-03-27 05:43:04.365   \n",
      "..                       ...                                 ...   \n",
      "82   2023-05-28T08:05:43.518             2023-05-28 02:05:43.518   \n",
      "244  2023-05-29T04:36:12.741             2023-05-28 22:36:12.741   \n",
      "273  2023-05-29T04:52:37.131             2023-05-28 22:52:37.131   \n",
      "26   2023-05-29T05:50:02.495             2023-05-28 23:50:02.495   \n",
      "54   2023-05-29T08:34:06.391             2023-05-29 02:34:06.391   \n",
      "\n",
      "     Distance à la Lune (deg)  Phase de la Lune  Hauteur du Soleil (deg)  \\\n",
      "55                  73.380597          0.322922               -42.983328   \n",
      "83                  72.848298          0.333089               -48.893350   \n",
      "109                 72.509992          0.338460               -40.333684   \n",
      "135                 72.187764          0.343035               -29.265721   \n",
      "161                 71.963062          0.345999               -21.100485   \n",
      "..                        ...               ...                      ...   \n",
      "82                  61.304886          0.567919               -30.898293   \n",
      "244                 65.052374          0.648759               -18.280494   \n",
      "273                 65.114707          0.649823               -20.424675   \n",
      "26                  65.333985          0.653543               -26.645657   \n",
      "54                  65.961185          0.664136               -29.464483   \n",
      "\n",
      "     Hauteur de SW Dra (deg)  Phase de SW Dra  \n",
      "55                 54.738410            0.410  \n",
      "83                 56.976038            0.600  \n",
      "109                53.042303            0.700  \n",
      "135                47.886420            0.785  \n",
      "161                44.078497            0.840  \n",
      "..                       ...              ...  \n",
      "82                 41.765214            0.410  \n",
      "244                56.381491            0.910  \n",
      "273                55.696976            0.930  \n",
      "26                 52.409739            0.000  \n",
      "54                 38.915485            0.200  \n",
      "\n",
      "[274 rows x 7 columns]\n"
     ]
    }
   ],
   "source": [
    "data_dict4 = { 'Date et heure (UTC)':TM.isot,\n",
    "               'Date et heure local en Utah (UTC-6)' : TU.iso,\n",
    "               'Distance à la Lune (deg)' : DATE[:,2],\n",
    "               'Phase de la Lune' : DATE[:,3],\n",
    "               'Hauteur du Soleil (deg)' : DATE[:,4],\n",
    "               'Hauteur de SW Dra (deg)' : DATE[:,5],\n",
    "               \"Phase de SW Dra\" : DATE[:,6]\n",
    "              }\n",
    "df4 = DataFrame(data_dict4)\n",
    "df4.head()\n",
    "df5 = df4.sort_values(by=['Date et heure (UTC)'])\n",
    "print(df5)\n",
    "\n",
    "df5.to_excel('on pleure.xlsx', header=True, index=False)"
   ]
  },
  {
   "cell_type": "code",
   "execution_count": null,
   "id": "a0e3829c",
   "metadata": {},
   "outputs": [],
   "source": []
  },
  {
   "cell_type": "code",
   "execution_count": null,
   "id": "b2665b3c",
   "metadata": {},
   "outputs": [],
   "source": []
  }
 ],
 "metadata": {
  "kernelspec": {
   "display_name": "Python 3 (ipykernel)",
   "language": "python",
   "name": "python3"
  },
  "language_info": {
   "codemirror_mode": {
    "name": "ipython",
    "version": 3
   },
   "file_extension": ".py",
   "mimetype": "text/x-python",
   "name": "python",
   "nbconvert_exporter": "python",
   "pygments_lexer": "ipython3",
   "version": "3.9.7"
  },
  "latex_envs": {
   "LaTeX_envs_menu_present": true,
   "autoclose": false,
   "autocomplete": true,
   "bibliofile": "biblio.bib",
   "cite_by": "apalike",
   "current_citInitial": 1,
   "eqLabelWithNumbers": true,
   "eqNumInitial": 1,
   "hotkeys": {
    "equation": "Ctrl-E",
    "itemize": "Ctrl-I"
   },
   "labels_anchors": false,
   "latex_user_defs": false,
   "report_style_numbering": false,
   "user_envs_cfg": false
  },
  "toc": {
   "base_numbering": 1,
   "nav_menu": {},
   "number_sections": false,
   "sideBar": true,
   "skip_h1_title": false,
   "title_cell": "Table of Contents",
   "title_sidebar": "Contents",
   "toc_cell": false,
   "toc_position": {},
   "toc_section_display": true,
   "toc_window_display": false
  },
  "varInspector": {
   "cols": {
    "lenName": 16,
    "lenType": 16,
    "lenVar": 40
   },
   "kernels_config": {
    "python": {
     "delete_cmd_postfix": "",
     "delete_cmd_prefix": "del ",
     "library": "var_list.py",
     "varRefreshCmd": "print(var_dic_list())"
    },
    "r": {
     "delete_cmd_postfix": ") ",
     "delete_cmd_prefix": "rm(",
     "library": "var_list.r",
     "varRefreshCmd": "cat(var_dic_list()) "
    }
   },
   "types_to_exclude": [
    "module",
    "function",
    "builtin_function_or_method",
    "instance",
    "_Feature"
   ],
   "window_display": false
  }
 },
 "nbformat": 4,
 "nbformat_minor": 5
}
