{
 "cells": [
  {
   "cell_type": "code",
   "execution_count": 163,
   "id": "a65b3f8f",
   "metadata": {},
   "outputs": [],
   "source": [
    "import numpy as np\n",
    "import matplotlib.pyplot as plt\n",
    "import math\n",
    "import astropy.units as u\n",
    "from astropy.coordinates import SkyCoord\n",
    "from astropy.time import Time\n",
    "from scipy.interpolate import interp1d"
   ]
  },
  {
   "cell_type": "markdown",
   "id": "b01f95a1",
   "metadata": {},
   "source": [
    "### Calcul de la magnitude"
   ]
  },
  {
   "cell_type": "code",
   "execution_count": 164,
   "id": "4000ed74",
   "metadata": {},
   "outputs": [],
   "source": [
    "def magnitude(I1, I2, mag2):\n",
    "    mag = -2.5 * np.log10(I1/I2) + mag2\n",
    "    return mag"
   ]
  },
  {
   "cell_type": "markdown",
   "id": "43e68683",
   "metadata": {},
   "source": [
    "### Magnitude V des étoiles de comparaison "
   ]
  },
  {
   "cell_type": "code",
   "execution_count": 165,
   "id": "b790e76a",
   "metadata": {},
   "outputs": [],
   "source": [
    "# TYC 4394-1693-1\n",
    "mag1 = 11.40\n",
    "\n",
    "# TYC 4394-727-1 \n",
    "mag2 = 11.60\n",
    "\n",
    "# TYC 4394-863-1 \n",
    "mag3 = 11.72\n",
    "\n",
    "# TYC 4394-1219-1\n",
    "mag4 = 10.88\n",
    "\n",
    "# TYC 4393-1207-1\n",
    "mag5 = 10.68\n",
    "\n",
    "# TYC 4393-1633-1 \n",
    "mag6 = 11.091\n",
    "\n",
    "magnitude_comp = np.array([11.40, 11.60, 11.72, 10.88, 10.68, 11.091])"
   ]
  },
  {
   "cell_type": "markdown",
   "id": "3e8f7f91",
   "metadata": {},
   "source": [
    "### Calcul de la phase lors de l'observation "
   ]
  },
  {
   "cell_type": "markdown",
   "id": "df071ece",
   "metadata": {},
   "source": [
    "#### Informations sur SW Dra"
   ]
  },
  {
   "cell_type": "code",
   "execution_count": 166,
   "id": "69b64de5",
   "metadata": {},
   "outputs": [],
   "source": [
    "sw_dra = SkyCoord.from_name('SW Dra') #coordonnées de SW Dra dans Simbad\n",
    "# print(sw_dra)\n",
    "\n",
    "p = 0.56966993 #période en jours\n",
    "\n",
    "periode = p*24*60 #période en minutes"
   ]
  },
  {
   "cell_type": "markdown",
   "id": "28eaa033",
   "metadata": {},
   "source": [
    "#### Epoque de phase 0 : \n",
    "\n",
    "Le début est déterminé par AAVSO pour le maximum de luminosité de SW Dra."
   ]
  },
  {
   "cell_type": "code",
   "execution_count": 167,
   "id": "07854c01",
   "metadata": {},
   "outputs": [],
   "source": [
    "beginn = Time('2023-03-27T00:14:00', format='isot', scale='utc')\n",
    "begin = beginn.jd"
   ]
  },
  {
   "cell_type": "markdown",
   "id": "99990c0d",
   "metadata": {},
   "source": [
    "#### Époque dont on souhaite déterminer la phase :"
   ]
  },
  {
   "cell_type": "markdown",
   "id": "127a806f",
   "metadata": {},
   "source": [
    "#### Calcul de phase : "
   ]
  },
  {
   "cell_type": "code",
   "execution_count": 168,
   "id": "6227178c",
   "metadata": {},
   "outputs": [],
   "source": [
    "def phase(epoque):\n",
    "    diff = epoque - begin \n",
    "    ratio = math.fmod(diff,p)\n",
    "    phase = ratio / p \n",
    "    return phase "
   ]
  },
  {
   "cell_type": "markdown",
   "id": "bab5d20f",
   "metadata": {},
   "source": [
    "### Obervation n°1 : phase (supposée) 0.000"
   ]
  },
  {
   "cell_type": "code",
   "execution_count": 169,
   "id": "40a11e68",
   "metadata": {},
   "outputs": [
    {
     "name": "stdout",
     "output_type": "stream",
     "text": [
      "[10.71559922 10.6747496  10.54387594 10.76998614 10.78039282 10.78717542]\n",
      "La phase correspondant à l'époque 2023-04-14T05:44:43.000 est 0.00039775978897763537\n"
     ]
    }
   ],
   "source": [
    "# Photométrie d'ouverture à 3 cercles\n",
    "# avec r1 = 8 pixels, r2 = 12 pixels et r3 = 20 pixels\n",
    "\n",
    "time1 = Time('2023-04-14T05:44:43', format='isot', scale='utc')\n",
    "\n",
    "I_SWDra1 = 107231.0\n",
    "\n",
    "intensity_comp1 = np.array([57090.0, 45732.0, 36297.0, 96898.0,117619.0, 81057.0])\n",
    "\n",
    "magnitude1 = magnitude(I_SWDra1, intensity_comp1, magnitude_comp)\n",
    "phase1 = phase(time1.jd)\n",
    "\n",
    "print(magnitude1)\n",
    "print(\"La phase correspondant à l'époque\", time1, 'est', phase1)"
   ]
  },
  {
   "cell_type": "markdown",
   "id": "48fe6314",
   "metadata": {},
   "source": [
    "### Obervation n°2 : phase (supposée) 0.930"
   ]
  },
  {
   "cell_type": "code",
   "execution_count": 170,
   "id": "2f61c7c6",
   "metadata": {},
   "outputs": [
    {
     "name": "stdout",
     "output_type": "stream",
     "text": [
      "[10.73447006 10.72135181 10.61619228 10.84471919 10.85940514 10.86273124]\n",
      "La phase correspondant à l'époque 2023-04-15T08:12:52.000 est 0.9363994454288156\n"
     ]
    }
   ],
   "source": [
    "# Photométrie d'ouverture à 3 cercles\n",
    "# avec r1 = 8 pixels, r2 = 12 pixels et r3 = 20 pixels\n",
    "\n",
    "time2 = Time('2023-04-15T08:12:52', format='isot', scale='utc')\n",
    "\n",
    "I_SWDra2 = 105747.0\n",
    "\n",
    "intensity_comp2 = np.array([57287.0, 47077.0, 38260.0, 102366.0, 124747.0, 85696.0])\n",
    "\n",
    "magnitude2 = magnitude(I_SWDra2, intensity_comp2, magnitude_comp)\n",
    "phase2 = phase(time2.jd)\n",
    "\n",
    "print(magnitude2)\n",
    "print(\"La phase correspondant à l'époque\", time2, 'est', phase2)"
   ]
  },
  {
   "cell_type": "markdown",
   "id": "214844bc",
   "metadata": {},
   "source": [
    "### Obervation n°3 : phase (supposée) 0.785"
   ]
  },
  {
   "cell_type": "code",
   "execution_count": 171,
   "id": "31104458",
   "metadata": {},
   "outputs": [
    {
     "name": "stdout",
     "output_type": "stream",
     "text": [
      "[10.58985693 10.57627264 10.48340597 10.68663712 10.70633371 10.72277051]\n",
      "La phase correspondant à l'époque 2023-04-16T09:29:51.000 est 0.7856468645750239\n"
     ]
    }
   ],
   "source": [
    "# Photométrie d'ouverture à 3 cercles\n",
    "# avec r1 = 8 pixels, r2 = 12 pixels et r3 = 20 pixels\n",
    "\n",
    "time3 = Time('2023-04-16T09:29:51', format='isot', scale='utc')\n",
    "\n",
    "I_SWDra3 = 124436.0\n",
    "\n",
    "intensity_comp3 = np.array([59005.0, 48468.0, 39839.0, 104136.0, 127491.0, 88645.0])\n",
    "\n",
    "magnitude3 = magnitude(I_SWDra3, intensity_comp3, magnitude_comp)\n",
    "phase3 = phase(time3.jd)\n",
    "\n",
    "print(magnitude3)\n",
    "print(\"La phase correspondant à l'époque\", time3, 'est', phase3)"
   ]
  },
  {
   "cell_type": "markdown",
   "id": "30c62e8b",
   "metadata": {},
   "source": [
    "### Obervation n°4 : phase (supposée) 0.600"
   ]
  },
  {
   "cell_type": "code",
   "execution_count": 172,
   "id": "6c68366c",
   "metadata": {},
   "outputs": [
    {
     "name": "stdout",
     "output_type": "stream",
     "text": [
      "[10.50769195 10.51771322 10.40527649 10.62464267 10.62928146 10.65248689]\n",
      "La phase correspondant à l'époque 2023-04-17T10:16:59.000 est 0.5985062546218103\n"
     ]
    }
   ],
   "source": [
    "# Photométrie d'ouverture à 3 cercles\n",
    "# avec r1 = 8 pixels, r2 = 12 pixels et r3 = 20 pixels\n",
    "\n",
    "time4 = Time('2023-04-17T10:16:59', format='isot', scale='utc')\n",
    "\n",
    "I_SWDra4 = 126514.0\n",
    "\n",
    "intensity_comp4 = np.array([55618.0, 46690.0, 37692.0, 99999.0, 120740.0, 84476.0])\n",
    "\n",
    "magnitude4 = magnitude(I_SWDra4, intensity_comp4, magnitude_comp)\n",
    "phase4 = phase(time4.jd)\n",
    "\n",
    "print(magnitude4)\n",
    "print(\"La phase correspondant à l'époque\", time4, 'est', phase4)"
   ]
  },
  {
   "cell_type": "markdown",
   "id": "8d39b0ce",
   "metadata": {},
   "source": [
    "### Obervation n°5 : phase (supposée) 0.885"
   ]
  },
  {
   "cell_type": "code",
   "execution_count": 173,
   "id": "21bc6844",
   "metadata": {},
   "outputs": [
    {
     "name": "stdout",
     "output_type": "stream",
     "text": [
      "[10.70514671 10.68526315 10.59998705 10.80944467 10.80197893 10.83761426]\n",
      "La phase correspondant à l'époque 2023-04-20T10:33:37.000 est 0.8849901764114935\n"
     ]
    }
   ],
   "source": [
    "# Photométrie d'ouverture à 3 cercles\n",
    "# avec r1 = 8 pixels, r2 = 12 pixels et r3 = 20 pixels\n",
    "\n",
    "time5 = Time('2023-04-20T10:33:37', format='isot', scale='utc')\n",
    "\n",
    "I_SWDra5 = 105710.0\n",
    "\n",
    "intensity_comp5 = np.array([55741.0, 45522.0, 37680.0, 99059.0, 118279.0, 83707.0])\n",
    "\n",
    "magnitude5 = magnitude(I_SWDra5, intensity_comp5, magnitude_comp)\n",
    "phase5 = phase(time5.jd)\n",
    "\n",
    "print(magnitude5)\n",
    "print(\"La phase correspondant à l'époque\", time5, 'est', phase5)"
   ]
  },
  {
   "cell_type": "markdown",
   "id": "d7ddab5f",
   "metadata": {},
   "source": [
    "### Moyenne des magnitudes et calcul d'erreurs"
   ]
  },
  {
   "cell_type": "code",
   "execution_count": 184,
   "id": "c022bcd8",
   "metadata": {},
   "outputs": [],
   "source": [
    "MAG1 = np.mean(magnitude1)\n",
    "sigma1 = np.std(magnitude1)\n",
    "\n",
    "MAG2 = np.mean(magnitude2)\n",
    "sigma2 = np.std(magnitude2)\n",
    "\n",
    "MAG3 = np.mean(magnitude3)\n",
    "sigma3 = np.std(magnitude3)\n",
    "\n",
    "MAG4 = np.mean(magnitude4)\n",
    "sigma4 = np.std(magnitude4)\n",
    "\n",
    "MAG5 = np.mean(magnitude5)\n",
    "sigma5 = np.std(magnitude5)\n",
    "\n",
    "MAGNITUDE = np.array([MAG1, MAG2, MAG3, MAG4, MAG5])\n",
    "PHASE = np.array([phase1, phase2, phase3, phase4, phase5])"
   ]
  },
  {
   "cell_type": "markdown",
   "id": "d9c57085",
   "metadata": {},
   "source": [
    "### Courbe de lumière "
   ]
  },
  {
   "cell_type": "code",
   "execution_count": 175,
   "id": "d678195a",
   "metadata": {},
   "outputs": [
    {
     "data": {
      "image/png": "[encoded data removed]",
      "text/plain": [
       "<Figure size 864x576 with 1 Axes>"
      ]
     },
     "metadata": {
      "needs_background": "light"
     },
     "output_type": "display_data"
    }
   ],
   "source": [
    "fig, ax = plt.subplots(figsize=(12, 8))\n",
    "\n",
    "ax.plot(PHASE, MAGNITUDE, \"b.\")\n",
    "errors=[sigma1, sigma2, sigma3, sigma4, sigma5]\n",
    "plt.errorbar(PHASE, MAGNITUDE, xerr=0, yerr=errors, ecolor='k', fmt='o', capthick=2)\n",
    "ax.set_xlabel('Phase', size=15)\n",
    "ax.set_ylabel('Magnitude V', size=15)\n",
    "plt.gca().invert_yaxis()\n",
    "plt.title('Courbe de lumière de SW Dra', size=15)\n",
    "plt.show()"
   ]
  },
  {
   "cell_type": "markdown",
   "id": "3351f38a",
   "metadata": {},
   "source": [
    "#### En enlevant la 3e étoile de comparaison :"
   ]
  },
  {
   "cell_type": "code",
   "execution_count": 176,
   "id": "9baf23fb",
   "metadata": {},
   "outputs": [],
   "source": [
    "magnitude_comp2 = np.array([11.40, 11.60, 10.88, 10.68, 11.091])\n",
    "\n",
    "intensity_comp12 = np.array([57090.0, 45732.0, 96898.0,117619.0, 81057.0])\n",
    "magnitude12 = magnitude(I_SWDra1, intensity_comp12, magnitude_comp2)\n",
    "\n",
    "intensity_comp22 = np.array([57287.0, 47077.0, 102366.0, 124747.0, 85696.0])\n",
    "magnitude22 = magnitude(I_SWDra2, intensity_comp22, magnitude_comp2)\n",
    "\n",
    "intensity_comp32 = np.array([59005.0, 48468.0, 104136.0, 127491.0, 88645.0])\n",
    "magnitude32 = magnitude(I_SWDra3, intensity_comp32, magnitude_comp2)\n",
    "\n",
    "intensity_comp42 = np.array([55618.0, 46690.0, 99999.0, 120740.0, 84476.0])\n",
    "magnitude42 = magnitude(I_SWDra4, intensity_comp42, magnitude_comp2)\n",
    "\n",
    "intensity_comp52 = np.array([55741.0, 45522.0, 99059.0, 118279.0, 83707.0])\n",
    "magnitude52 = magnitude(I_SWDra5, intensity_comp52, magnitude_comp2)\n",
    "\n",
    "MAG12 = np.mean(magnitude12)\n",
    "sigma12 = np.std(magnitude12)\n",
    "\n",
    "MAG22 = np.mean(magnitude22)\n",
    "sigma22 = np.std(magnitude22)\n",
    "\n",
    "MAG32 = np.mean(magnitude32)\n",
    "sigma32 = np.std(magnitude32)\n",
    "\n",
    "MAG42 = np.mean(magnitude42)\n",
    "sigma42 = np.std(magnitude42)\n",
    "\n",
    "MAG52 = np.mean(magnitude52)\n",
    "sigma52 = np.std(magnitude52)\n",
    "\n",
    "MAGNITUDE2 = np.array([MAG12, MAG22, MAG32, MAG42, MAG52])"
   ]
  },
  {
   "cell_type": "code",
   "execution_count": 177,
   "id": "4f09cf17",
   "metadata": {},
   "outputs": [
    {
     "data": {
      "image/png": "[encoded data removed]",
      "text/plain": [
       "<Figure size 864x576 with 1 Axes>"
      ]
     },
     "metadata": {
      "needs_background": "light"
     },
     "output_type": "display_data"
    }
   ],
   "source": [
    "fig, ax = plt.subplots(figsize=(12, 8))\n",
    "\n",
    "ax.plot(PHASE, MAGNITUDE2, \"b.\")\n",
    "errors2 = [sigma12, sigma22, sigma32, sigma42]\n",
    "plt.errorbar(PHASE, MAGNITUDE2, xerr=0, yerr=errors, ecolor='k', fmt='o', capthick=2)\n",
    "ax.set_xlabel('Phase', size=15)\n",
    "ax.set_ylabel('Magnitude V', size=15)\n",
    "plt.gca().invert_yaxis()\n",
    "plt.title('Courbe de lumière de SW Dra (sans 3e étoile de comparaison)', size=15)\n",
    "plt.show()"
   ]
  },
  {
   "cell_type": "markdown",
   "id": "006e0b34",
   "metadata": {},
   "source": [
    "#### Courbe de lumière attendue et test de fit"
   ]
  },
  {
   "cell_type": "code",
   "execution_count": 178,
   "id": "3fab1522",
   "metadata": {},
   "outputs": [],
   "source": [
    "phaseref1 = np.array([0., 0.2003, 0.4094, 0.5943, 0.6868, 0.7824, 0.8508, 0.8994, 0.9308, 0.9602])\n",
    "magnituderef1 = np.array([9.971, 10.344, 10.616, 10.736, 10.736, 10.843, 10.888, 10.691, 10.307, 10.148])"
   ]
  },
  {
   "cell_type": "code",
   "execution_count": 179,
   "id": "22ac63c4",
   "metadata": {},
   "outputs": [
    {
     "data": {
      "image/png": "[encoded data removed]",
      "text/plain": [
       "<Figure size 576x360 with 1 Axes>"
      ]
     },
     "metadata": {
      "needs_background": "light"
     },
     "output_type": "display_data"
    }
   ],
   "source": [
    "fig, ax = plt.subplots(figsize=(8, 5))\n",
    "\n",
    "ax.plot(phaseref1, magnituderef1, \"b.\")\n",
    "ax.set_xlabel('Phase', size=15)\n",
    "plt.gca().invert_yaxis()\n",
    "ax.set_ylabel('Magnitude V', size=15)\n",
    "plt.title('Courbe de luminosité de SW Dra avec 10 observations (référence)')\n",
    "plt.show()"
   ]
  },
  {
   "cell_type": "markdown",
   "id": "fa177330",
   "metadata": {},
   "source": [
    "#### Courbe de lumière comparaison"
   ]
  },
  {
   "cell_type": "code",
   "execution_count": 180,
   "id": "5c113f5c",
   "metadata": {},
   "outputs": [],
   "source": [
    "phaseref2 = np.array([0.3527,0.3671,0.3787,0.4094,0.4215,0.4503,0.4568,0.4823,0.4888,0.5109,0.5169,0.5448,0.5553,0.5873,0.5943,0.6188,0.6255,0.6504,0.6568,0.6784,0.6868,0.8125,0.8192,0.8404,0.8469,0.8508,0.8555,0.8834,0.8877,0.892,0.8936,0.8956,0.8975,0.8994,0.9015,0.9033,0.9084,0.9105,0.9122,0.9142,0.9161,0.918,0.9203,0.9236,0.9254,0.9273,0.9291,0.9308,0.9328,0.9347,0.9394,0.9415,0.9435,0.9452,\n",
    "                   0.9472,0.9489,0.951,0.9528,0.9547,0.9566,0.9584,0.9602,0.9621,0.964,0.9665,0.9682,0.9702,0.9717,0.9737,0.976,0.9777,0.9796,0.9814,0.9831,0.9881,0.9898,0.9916,0.9935,0.9954,0.9975,0,0.0028,0.0047,0.0068,0.0086,0.0105,0.0128,0.0146,0.0169,0.0186,0.0205,0.0225,0.027,0.0289,0.0305,0.0327,0.0533,0.0578,0.062,0.0851,0.0895,0.0936,0.1227,0.1273,0.1315,0.1586,0.1611,0.1655,\n",
    "                   0.1957,0.2003,0.2047,0.2338,0.2382,0.2424,0.2647,0.2688,0.2749,0.303,0.3072,0.3112,0.3372,0.3418,0.346,0.37,0.3744,0.3786,0.4162,0.4202,0.4246,0.4826,0.4864,0.4905,0.7461,0.7505,0.7547,0.7737,0.778,0.7824,0.811,0.8154,0.8516,0.8556,0.8598,0.8828,0.8874,0.8916,0.8936,0.8953,0.8972,0.0134,0.0181,0.0233,0.0259,0.0289,0.0861,0.0903,0.0947,0.147,0.1511,0.1555])\n",
    "\n",
    "\n",
    "magnituderef2 = np.array([10.553,10.575,10.57,10.616,10.617,10.639,10.643,10.642,10.668,10.687,10.682,10.711,10.714,10.736,10.736,10.742,10.744,10.738,10.737,10.737,10.736,10.878,10.884,10.896,10.895,10.888,10.894,10.808,10.783,10.744,10.734,10.726,10.699,10.691,10.669,10.618,10.58,10.559,10.537,10.504,10.476,10.44,10.411,10.369,10.355,10.33,10.322,10.307,10.306,10.297,10.288,10.270,10.265,10.255,\n",
    "                       10.246,10.232,10.22,10.204,10.191,10.171,10.161,10.148,10.135,10.118,10.091,10.077,10.064,10.049,10.043,10.033,10.023,10.007,10.001,9.998,9.981,9.978,9.973,9.971,9.969,9.965,9.971,9.972,9.971,9.978,9.967,9.978,9.976,9.986,9.984,9.986,9.996,9.99,10.007,10.006,10.012,10.014,10.062,10.071,10.083,10.136,10.143,10.153,10.215,10.213,10.224,10.266,10.275,10.28,\n",
    "                       10.335,10.344,10.347,10.4,10.405,10.412,10.446,10.452,10.453,10.493,10.497,10.499,10.535,10.545,10.544,10.574,10.576,10.578,10.616,10.613,10.625,10.665,10.667,10.725,10.795,10.797,10.802,10.832,10.839,10.843,10.88,10.883,10.891,10.881,10.881,10.811,10.782,10.75,10.736,10.722,10.705,9.982,9.989,9.998,10.002,10.007,10.138,10.142,10.152,10.259,10.261,10.268])"
   ]
  },
  {
   "cell_type": "code",
   "execution_count": 194,
   "id": "069243aa",
   "metadata": {},
   "outputs": [
    {
     "data": {
      "image/png": "[encoded data removed]",
      "text/plain": [
       "<Figure size 864x576 with 1 Axes>"
      ]
     },
     "metadata": {
      "needs_background": "light"
     },
     "output_type": "display_data"
    }
   ],
   "source": [
    "fig, ax = plt.subplots(figsize=(12, 8))\n",
    "\n",
    "ax.plot(phaseref2, magnituderef2, \"b.\", alpha=0.5)\n",
    "ax.plot(PHASE, MAGNITUDE, \"r.\")\n",
    "ax.set_xlabel('Phase', size=15)\n",
    "plt.gca().invert_yaxis()\n",
    "ax.set_ylabel('Magnitude V', size=15)\n",
    "plt.title('Courbe de luminosité de SW Dra avec 10 observations (référence) + nos observations')\n",
    "plt.show()"
   ]
  },
  {
   "cell_type": "code",
   "execution_count": 207,
   "id": "6885ad0d",
   "metadata": {},
   "outputs": [
    {
     "data": {
      "image/png": "[encoded data removed]",
      "text/plain": [
       "<Figure size 864x576 with 1 Axes>"
      ]
     },
     "metadata": {
      "needs_background": "light"
     },
     "output_type": "display_data"
    }
   ],
   "source": [
    "movedphase = np.array([0.890, 0.83, 0.675, 0.49, 0.74])\n",
    "\n",
    "\n",
    "fig, ax = plt.subplots(figsize=(12, 8))\n",
    "\n",
    "ax.plot(phaseref2, magnituderef2, \"b.\")\n",
    "ax.plot(movedphase, MAGNITUDE2, \"r.\")\n",
    "errors2 = [sigma12, sigma22, sigma32, sigma42]\n",
    "plt.errorbar(movedphase, MAGNITUDE2, xerr=0, yerr=errors, fmt='o', capthick=2)\n",
    "ax.set_xlabel('Phase', size=15)\n",
    "plt.gca().invert_yaxis()\n",
    "ax.set_ylabel('Magnitude V', size=15)\n",
    "plt.title('Courbe de luminosité de SW Dra avec 10 observations (référence) + nos observations')\n",
    "plt.show()"
   ]
  },
  {
   "cell_type": "code",
   "execution_count": 210,
   "id": "84d7317e",
   "metadata": {},
   "outputs": [
    {
     "data": {
      "image/png": "[encoded data removed]",
      "text/plain": [
       "<Figure size 864x576 with 1 Axes>"
      ]
     },
     "metadata": {
      "needs_background": "light"
     },
     "output_type": "display_data"
    }
   ],
   "source": [
    "movedphase = np.array([0.890, 0.83, 0.675, 0.49, 0.74])\n",
    "\n",
    "\n",
    "fig, ax = plt.subplots(figsize=(12, 8))\n",
    "\n",
    "ax.plot(phaseref2, magnituderef2, \"b.\", alpha=0.4)\n",
    "ax.plot(movedphase, MAGNITUDE2, \"r.\")\n",
    "ax.set_xlabel('Phase', size=15)\n",
    "plt.gca().invert_yaxis()\n",
    "ax.set_ylabel('Magnitude V', size=15)\n",
    "plt.title('Courbe de luminosité de SW Dra avec 10 observations (référence) + nos observations')\n",
    "plt.show()"
   ]
  },
  {
   "cell_type": "code",
   "execution_count": null,
   "id": "2e31dea7",
   "metadata": {},
   "outputs": [],
   "source": []
  }
 ],
 "metadata": {
  "kernelspec": {
   "display_name": "Python 3 (ipykernel)",
   "language": "python",
   "name": "python3"
  },
  "language_info": {
   "codemirror_mode": {
    "name": "ipython",
    "version": 3
   },
   "file_extension": ".py",
   "mimetype": "text/x-python",
   "name": "python",
   "nbconvert_exporter": "python",
   "pygments_lexer": "ipython3",
   "version": "3.8.12"
  },
  "latex_envs": {
   "LaTeX_envs_menu_present": true,
   "autoclose": false,
   "autocomplete": true,
   "bibliofile": "biblio.bib",
   "cite_by": "apalike",
   "current_citInitial": 1,
   "eqLabelWithNumbers": true,
   "eqNumInitial": 1,
   "hotkeys": {
    "equation": "Ctrl-E",
    "itemize": "Ctrl-I"
   },
   "labels_anchors": false,
   "latex_user_defs": false,
   "report_style_numbering": false,
   "user_envs_cfg": false
  },
  "toc": {
   "base_numbering": 1,
   "nav_menu": {},
   "number_sections": false,
   "sideBar": true,
   "skip_h1_title": false,
   "title_cell": "Table of Contents",
   "title_sidebar": "Contents",
   "toc_cell": false,
   "toc_position": {},
   "toc_section_display": true,
   "toc_window_display": true
  }
 },
 "nbformat": 4,
 "nbformat_minor": 5
}
